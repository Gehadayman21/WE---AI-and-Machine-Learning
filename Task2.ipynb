{
 "cells": [
  {
   "cell_type": "code",
   "execution_count": 2,
   "id": "1b377d34-4bb2-4ee3-8bc1-419a9178c426",
   "metadata": {},
   "outputs": [],
   "source": [
    "import pandas as pd\n",
    "import numpy as np"
   ]
  },
  {
   "cell_type": "code",
   "execution_count": 15,
   "id": "19f93023-a607-4a08-820d-33e4f7f1220a",
   "metadata": {},
   "outputs": [
    {
     "data": {
      "text/html": [
       "<div>\n",
       "<style scoped>\n",
       "    .dataframe tbody tr th:only-of-type {\n",
       "        vertical-align: middle;\n",
       "    }\n",
       "\n",
       "    .dataframe tbody tr th {\n",
       "        vertical-align: top;\n",
       "    }\n",
       "\n",
       "    .dataframe thead th {\n",
       "        text-align: right;\n",
       "    }\n",
       "</style>\n",
       "<table border=\"1\" class=\"dataframe\">\n",
       "  <thead>\n",
       "    <tr style=\"text-align: right;\">\n",
       "      <th></th>\n",
       "      <th>age</th>\n",
       "      <th>sex</th>\n",
       "      <th>bmi</th>\n",
       "      <th>children</th>\n",
       "      <th>smoker</th>\n",
       "      <th>region</th>\n",
       "      <th>charges</th>\n",
       "    </tr>\n",
       "  </thead>\n",
       "  <tbody>\n",
       "    <tr>\n",
       "      <th>0</th>\n",
       "      <td>19</td>\n",
       "      <td>female</td>\n",
       "      <td>27.900</td>\n",
       "      <td>0</td>\n",
       "      <td>yes</td>\n",
       "      <td>southwest</td>\n",
       "      <td>16884.92400</td>\n",
       "    </tr>\n",
       "    <tr>\n",
       "      <th>1</th>\n",
       "      <td>18</td>\n",
       "      <td>male</td>\n",
       "      <td>33.770</td>\n",
       "      <td>1</td>\n",
       "      <td>no</td>\n",
       "      <td>southeast</td>\n",
       "      <td>1725.55230</td>\n",
       "    </tr>\n",
       "    <tr>\n",
       "      <th>2</th>\n",
       "      <td>28</td>\n",
       "      <td>male</td>\n",
       "      <td>33.000</td>\n",
       "      <td>3</td>\n",
       "      <td>no</td>\n",
       "      <td>southeast</td>\n",
       "      <td>4449.46200</td>\n",
       "    </tr>\n",
       "    <tr>\n",
       "      <th>3</th>\n",
       "      <td>33</td>\n",
       "      <td>male</td>\n",
       "      <td>22.705</td>\n",
       "      <td>0</td>\n",
       "      <td>no</td>\n",
       "      <td>northwest</td>\n",
       "      <td>21984.47061</td>\n",
       "    </tr>\n",
       "    <tr>\n",
       "      <th>4</th>\n",
       "      <td>32</td>\n",
       "      <td>male</td>\n",
       "      <td>28.880</td>\n",
       "      <td>0</td>\n",
       "      <td>no</td>\n",
       "      <td>northwest</td>\n",
       "      <td>3866.85520</td>\n",
       "    </tr>\n",
       "    <tr>\n",
       "      <th>...</th>\n",
       "      <td>...</td>\n",
       "      <td>...</td>\n",
       "      <td>...</td>\n",
       "      <td>...</td>\n",
       "      <td>...</td>\n",
       "      <td>...</td>\n",
       "      <td>...</td>\n",
       "    </tr>\n",
       "    <tr>\n",
       "      <th>1333</th>\n",
       "      <td>50</td>\n",
       "      <td>male</td>\n",
       "      <td>30.970</td>\n",
       "      <td>3</td>\n",
       "      <td>no</td>\n",
       "      <td>northwest</td>\n",
       "      <td>10600.54830</td>\n",
       "    </tr>\n",
       "    <tr>\n",
       "      <th>1334</th>\n",
       "      <td>18</td>\n",
       "      <td>female</td>\n",
       "      <td>31.920</td>\n",
       "      <td>0</td>\n",
       "      <td>no</td>\n",
       "      <td>northeast</td>\n",
       "      <td>2205.98080</td>\n",
       "    </tr>\n",
       "    <tr>\n",
       "      <th>1335</th>\n",
       "      <td>18</td>\n",
       "      <td>female</td>\n",
       "      <td>36.850</td>\n",
       "      <td>0</td>\n",
       "      <td>no</td>\n",
       "      <td>southeast</td>\n",
       "      <td>1629.83350</td>\n",
       "    </tr>\n",
       "    <tr>\n",
       "      <th>1336</th>\n",
       "      <td>21</td>\n",
       "      <td>female</td>\n",
       "      <td>25.800</td>\n",
       "      <td>0</td>\n",
       "      <td>no</td>\n",
       "      <td>southwest</td>\n",
       "      <td>2007.94500</td>\n",
       "    </tr>\n",
       "    <tr>\n",
       "      <th>1337</th>\n",
       "      <td>61</td>\n",
       "      <td>female</td>\n",
       "      <td>29.070</td>\n",
       "      <td>0</td>\n",
       "      <td>yes</td>\n",
       "      <td>northwest</td>\n",
       "      <td>29141.36030</td>\n",
       "    </tr>\n",
       "  </tbody>\n",
       "</table>\n",
       "<p>1338 rows × 7 columns</p>\n",
       "</div>"
      ],
      "text/plain": [
       "      age     sex     bmi  children smoker     region      charges\n",
       "0      19  female  27.900         0    yes  southwest  16884.92400\n",
       "1      18    male  33.770         1     no  southeast   1725.55230\n",
       "2      28    male  33.000         3     no  southeast   4449.46200\n",
       "3      33    male  22.705         0     no  northwest  21984.47061\n",
       "4      32    male  28.880         0     no  northwest   3866.85520\n",
       "...   ...     ...     ...       ...    ...        ...          ...\n",
       "1333   50    male  30.970         3     no  northwest  10600.54830\n",
       "1334   18  female  31.920         0     no  northeast   2205.98080\n",
       "1335   18  female  36.850         0     no  southeast   1629.83350\n",
       "1336   21  female  25.800         0     no  southwest   2007.94500\n",
       "1337   61  female  29.070         0    yes  northwest  29141.36030\n",
       "\n",
       "[1338 rows x 7 columns]"
      ]
     },
     "execution_count": 15,
     "metadata": {},
     "output_type": "execute_result"
    }
   ],
   "source": [
    "\n",
    "df=pd.read_csv(r\"C:\\Users\\HP\\Downloads\\insurance-data (1).csv\")\n",
    "df"
   ]
  },
  {
   "cell_type": "markdown",
   "id": "ca21e48a-8e90-4c4f-8caf-3bf33883aab6",
   "metadata": {},
   "source": [
    "**what is the percentage of female smokers**\n"
   ]
  },
  {
   "cell_type": "code",
   "execution_count": 18,
   "id": "24a22e72-08ad-4f51-a822-c01bdb9e1f54",
   "metadata": {},
   "outputs": [
    {
     "name": "stdout",
     "output_type": "stream",
     "text": [
      "Percentage of female smokers: 17.37%\n"
     ]
    }
   ],
   "source": [
    "female_smokers = df[(df['sex'] == 'female') & (df['smoker'] == 'yes')]\n",
    "percentage_female_smokers = (len(female_smokers) / len(df[df['sex'] == 'female'])) * 100\n",
    "print(f\"Percentage of female smokers: {percentage_female_smokers:.2f}%\")"
   ]
  },
  {
   "cell_type": "markdown",
   "id": "7f0ea0f6-9b7c-4c4d-923a-fbbf0d668d66",
   "metadata": {},
   "source": [
    "**which city has the max insurance rate?**"
   ]
  },
  {
   "cell_type": "code",
   "execution_count": 23,
   "id": "b67ef22d-2136-41a5-9173-e750340c3d77",
   "metadata": {},
   "outputs": [
    {
     "name": "stdout",
     "output_type": "stream",
     "text": [
      "City with the maximum insurance rate: southeast\n"
     ]
    }
   ],
   "source": [
    "max_insurance_city = df.groupby('region')['charges'].sum().idxmax()\n",
    "print(f\"City with the maximum insurance rate: {max_insurance_city}\")"
   ]
  },
  {
   "cell_type": "markdown",
   "id": "6c01dcf7-5a2f-4aa1-93f1-a0a042cf0c83",
   "metadata": {},
   "source": [
    "**which gender has the max insurance rate?**"
   ]
  },
  {
   "cell_type": "code",
   "execution_count": null,
   "id": "be84f8d7-8482-4968-a02c-aa00b9dc2a8a",
   "metadata": {},
   "outputs": [],
   "source": [
    "max_insurance_gender = df.groupby('sex')['charges'].sum().idxmax()\n",
    "print(f\"Gender with the maximum insurance rate: {max_insurance_gender}\")"
   ]
  },
  {
   "cell_type": "markdown",
   "id": "7fbb138b-db79-4cb2-8efb-5868a3fbdfac",
   "metadata": {},
   "source": [
    "**what is the average percentage of female smoker age?**"
   ]
  },
  {
   "cell_type": "code",
   "execution_count": 29,
   "id": "f132ed72-62e1-4391-9882-89360ff7ea56",
   "metadata": {},
   "outputs": [
    {
     "name": "stdout",
     "output_type": "stream",
     "text": [
      "Average age of female smokers: 38.61 years\n"
     ]
    }
   ],
   "source": [
    "average_age_female_smokers = female_smokers['age'].mean()\n",
    "print(f\"Average age of female smokers: {average_age_female_smokers:.2f} years\")"
   ]
  },
  {
   "cell_type": "markdown",
   "id": "6b8f4cc3-0c8b-4e07-aa8c-78d180ccf816",
   "metadata": {},
   "source": [
    "**what is the percentage fo males that who has children insurance?**"
   ]
  },
  {
   "cell_type": "code",
   "execution_count": 34,
   "id": "d3f39324-86d8-4ada-b7e1-f6601b95b0e7",
   "metadata": {},
   "outputs": [
    {
     "name": "stdout",
     "output_type": "stream",
     "text": [
      "Percentage of males who have children insurance: 57.84%\n"
     ]
    }
   ],
   "source": [
    "males_with_children = df[(df['sex'] == 'male') & (df['children'] > 0)]\n",
    "percentage_males = (len(males_with_children) / len(df[df['sex'] == 'male'])) * 100\n",
    "print(f\"Percentage of males who have children insurance: {percentage_males:.2f}%\")"
   ]
  },
  {
   "cell_type": "markdown",
   "id": "37f465fd-0ace-437d-a49c-64d10e6a3018",
   "metadata": {},
   "source": [
    "**what is the percentage fo females that who has children insurance?**"
   ]
  },
  {
   "cell_type": "code",
   "execution_count": 40,
   "id": "a4b8ad3c-471e-4238-8583-f9aefc3835b2",
   "metadata": {},
   "outputs": [
    {
     "name": "stdout",
     "output_type": "stream",
     "text": [
      "Percentage of females who have children insurance: 56.34%\n"
     ]
    }
   ],
   "source": [
    "females_with_children = df[(df['sex'] == 'female') & (df['children'] > 0)]\n",
    "percentage_females = (len(females_with_children) / len(df[df['sex'] == 'female'])) * 100\n",
    "print(f\"Percentage of females who have children insurance: {percentage_females:.2f}%\")"
   ]
  },
  {
   "cell_type": "markdown",
   "id": "04b98593-eebd-456c-87d5-c7ab949fa494",
   "metadata": {},
   "source": [
    "**what are the maximum number of children associated with male parent assurance?**"
   ]
  },
  {
   "cell_type": "code",
   "execution_count": 52,
   "id": "150c461f-b590-4f5f-8aad-35c804435fb3",
   "metadata": {},
   "outputs": [
    {
     "name": "stdout",
     "output_type": "stream",
     "text": [
      "Maximum number of children associated with male parent insurance: 5\n"
     ]
    }
   ],
   "source": [
    "max_children_with_male_parent_assurance = df[df['sex'] == 'male']['children'].max()\n",
    "print(f\"Maximum number of children associated with male parent insurance: {max_children_with_male_parent_assurance}\")"
   ]
  },
  {
   "cell_type": "markdown",
   "id": "4480e599-5968-44cb-a0f9-625c921409f1",
   "metadata": {},
   "source": [
    "**what are the maximum number of children associated with female parent assurance?**"
   ]
  },
  {
   "cell_type": "code",
   "execution_count": 56,
   "id": "7bde17a9-7cff-4db2-8335-25a50a350870",
   "metadata": {},
   "outputs": [
    {
     "name": "stdout",
     "output_type": "stream",
     "text": [
      "Maximum number of children associated with female parent insurance: 5\n"
     ]
    }
   ],
   "source": [
    "max_children_with_female_parent_assurance = df[df['sex'] == 'female']['children'].max()\n",
    "print(f\"Maximum number of children associated with female parent insurance: {max_children_with_female_parent_assurance}\")"
   ]
  },
  {
   "cell_type": "markdown",
   "id": "f6a82c15-589c-4aee-8bb5-7ee603d76b9d",
   "metadata": {},
   "source": [
    "**Which city has the maximum female insurance total charge?**"
   ]
  },
  {
   "cell_type": "code",
   "execution_count": 63,
   "id": "784fb2d2-7693-4cb3-ad34-c1788827db5a",
   "metadata": {},
   "outputs": [
    {
     "name": "stdout",
     "output_type": "stream",
     "text": [
      "city has the maximum female insurance total charge: southeast\n"
     ]
    }
   ],
   "source": [
    "max_female_insurance = df[df['sex'] == 'female'].groupby('region')['charges'].sum() .idxmax()\n",
    "print(f\"city has the maximum female insurance total charge: {max_female_insurance}\")"
   ]
  },
  {
   "cell_type": "code",
   "execution_count": null,
   "id": "c8841857-ef90-40fa-a466-e20de8da216c",
   "metadata": {},
   "outputs": [],
   "source": []
  }
 ],
 "metadata": {
  "kernelspec": {
   "display_name": "Python 3 (ipykernel)",
   "language": "python",
   "name": "python3"
  },
  "language_info": {
   "codemirror_mode": {
    "name": "ipython",
    "version": 3
   },
   "file_extension": ".py",
   "mimetype": "text/x-python",
   "name": "python",
   "nbconvert_exporter": "python",
   "pygments_lexer": "ipython3",
   "version": "3.12.4"
  }
 },
 "nbformat": 4,
 "nbformat_minor": 5
}
